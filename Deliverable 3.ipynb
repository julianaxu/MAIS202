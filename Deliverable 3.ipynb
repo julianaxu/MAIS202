{
 "cells": [
  {
   "cell_type": "markdown",
   "metadata": {},
   "source": [
    "Juliana Xu\n",
    "\n",
    "**Deliverable 3**\n",
    "\n",
    "**1. Final Training Results**"
   ]
  },
  {
   "cell_type": "code",
   "execution_count": 151,
   "metadata": {},
   "outputs": [],
   "source": [
    "from sklearn.model_selection import train_test_split\n",
    "from sklearn.ensemble import RandomForestClassifier\n",
    "import matplotlib.pyplot as plt; plt.rcdefaults()\n",
    "from sklearn.metrics import confusion_matrix\n",
    "from sklearn.svm import LinearSVC \n",
    "from sklearn import preprocessing\n",
    "import matplotlib.pyplot as plt\n",
    "import pandas as pd\n",
    "import numpy as np"
   ]
  },
  {
   "cell_type": "code",
   "execution_count": 152,
   "metadata": {},
   "outputs": [],
   "source": [
    "# Import Dataset\n",
    "mushrooms = pd.read_csv(\"/Users/julianaxu/Downloads/mushrooms.csv\")\n",
    "\n",
    "# Delete the colums with label \"veil-type\". Mushrooms now has shape (8124, 22).\n",
    "mushrooms = mushrooms.drop(\"veil-type\", axis = 1)"
   ]
  },
  {
   "cell_type": "markdown",
   "metadata": {},
   "source": [
    "All mushrooms within this dataset have the same veil type so 100% of the values in this column are identical. Therefore, it does not contribute to the determination of the edibility of a mushroom and can be removed to render a more efficient model. "
   ]
  },
  {
   "cell_type": "code",
   "execution_count": 153,
   "metadata": {},
   "outputs": [
    {
     "name": "stdout",
     "output_type": "stream",
     "text": [
      "Factor data (y_test):  ['p' 'p' 'e' ... 'e' 'e' 'p']\n",
      "Numerical data (y_test):  [1 1 0 ... 0 0 1]\n"
     ]
    }
   ],
   "source": [
    "# Create X and y. \n",
    "# y is an array of the first column. \n",
    "# X is an array of all the subsequent columns. \n",
    "X = np.array(mushrooms.iloc[:, 1:])\n",
    "y = np.array(mushrooms.iloc[:, 0])\n",
    "\n",
    "# Create training and test sets. Note: train/valid/test = .65/.15/.20\n",
    "X_train, X_test, y_train, y_test = train_test_split(X, y, test_size = 0.20)\n",
    "print(\"Factor data (y_test): \", y_test)\n",
    "\n",
    "# Create a validation set. Note: 12% of 80%  = 15% of full dataset\n",
    "X_train, X_valid, y_train, y_valid = train_test_split(X_train, y_train, test_size = 0.12)\n",
    "\n",
    "# Use Label Encoder to turn categorical data into numerical.\n",
    "le = preprocessing.LabelEncoder()\n",
    "le.fit(y_train)\n",
    "y_train = le.transform(y_train)\n",
    "\n",
    "# Do the same for y_test. Note: 0 = edible, 1 = poisonous\n",
    "le.fit(y_test)\n",
    "y_test = le.transform(y_test)\n",
    "\n",
    "# Do the same for y_valid.\n",
    "le.fit(y_valid)\n",
    "y_valid = le.transform(y_valid)\n",
    "\n",
    "# Use Label Encoder on X_train, X_valid and _test\n",
    "for i in range(21):\n",
    "    # X_train\n",
    "    le.fit(X_train[:, i])\n",
    "    X_train[:, i] = le.transform(X_train[:, i])\n",
    "    # X_valid\n",
    "    le.fit(X_valid[:, i])\n",
    "    X_valid[:, i] = le.transform(X_valid[:, i])\n",
    "    # X_test\n",
    "    le.fit(X_test[:, i])\n",
    "    X_test[:, i] = le.transform(X_test[:, i])\n",
    "    \n",
    "print(\"Numerical data (y_test): \", y_test)"
   ]
  },
  {
   "cell_type": "markdown",
   "metadata": {},
   "source": [
    "The data within this dataset was categorical. It needed to be converted to numerical data in order to facilitate the implementation of different classifiers. "
   ]
  },
  {
   "cell_type": "markdown",
   "metadata": {},
   "source": [
    "**SVM**"
   ]
  },
  {
   "cell_type": "code",
   "execution_count": 154,
   "metadata": {},
   "outputs": [
    {
     "name": "stdout",
     "output_type": "stream",
     "text": [
      "Validation Accuracy with l1 regularization:  0.95\n",
      "Validation Accuracy with l2 regularization:  0.9474358974358974 \n",
      "\n",
      "Validation Accuracy with C = 1:  0.9512820512820512\n",
      "Validation Accuracy with C = 5:  0.9525641025641025\n",
      "Validation Accuracy with C = 10:  0.9525641025641025\n"
     ]
    }
   ],
   "source": [
    "# Using SVM\n",
    "\n",
    "# Find out whether to use l1 or l2 regularization\n",
    "svm1 = LinearSVC(class_weight = 'balanced', penalty = 'l1', dual = False, max_iter = 40000)\n",
    "svm.fit(X_train, y_train)\n",
    "print(\"Validation Accuracy with l1 regularization: \", svm.score(X_valid, y_valid))\n",
    "\n",
    "svm2 = LinearSVC(class_weight = 'balanced', penalty = 'l2', dual = False, max_iter = 40000)\n",
    "svm2.fit(X_train, y_train)\n",
    "print(\"Validation Accuracy with l2 regularization: \", svm2.score(X_valid, y_valid), \"\\n\")\n",
    "\n",
    "# Find out to which value C should be set\n",
    "svm3 = LinearSVC(C = 1, class_weight = 'balanced', penalty = 'l1', dual = False, max_iter = 40000)\n",
    "svm3.fit(X_train, y_train)\n",
    "print(\"Validation Accuracy with C = 1: \", svm3.score(X_valid, y_valid))\n",
    "\n",
    "svm4 = LinearSVC(C = 10, class_weight = 'balanced', penalty = 'l1', dual = False, max_iter = 40000)\n",
    "svm4.fit(X_train, y_train) \n",
    "print(\"Validation Accuracy with C = 5: \", svm4.score(X_valid, y_valid))\n",
    "\n",
    "svm5 = LinearSVC(C = 100, class_weight = 'balanced', penalty = 'l1', dual = False, max_iter = 40000)\n",
    "svm5.fit(X_train, y_train)\n",
    "print(\"Validation Accuracy with C = 10: \", svm5.score(X_valid, y_valid))"
   ]
  },
  {
   "cell_type": "markdown",
   "metadata": {},
   "source": [
    "Through playing around with different hyperparameters, we see that the highest accuracy on the validation set is obtained when the penalty is set to l1 regularization. We also notice that the accuracy does not noticeably change with various values of C so using the default, C = 1, should work fine. Max_iter is set to 40000 because a lower value will result in ConvergenceWarning error message of \"Liblinear failed to converge, increase the number of iterations\".\n",
    "\n",
    "In summary, we will be using the following hyperparameters:\n",
    "- C = 1\n",
    "- penalty = l1\n",
    "- max_iter = 40000"
   ]
  },
  {
   "cell_type": "code",
   "execution_count": 155,
   "metadata": {},
   "outputs": [
    {
     "name": "stdout",
     "output_type": "stream",
     "text": [
      "Training Accuracy:  0.9506906801888442\n",
      "Validation Accuracy:  0.9512820512820512\n",
      "Test Accuracy:  0.9532307692307692 \n",
      "\n",
      "Weights assigned to each feature:\n",
      " [[ 9.53274677e-04  6.14914250e-02 -2.95964003e-02  3.83380747e-01\n",
      "  -3.19022795e-01 -7.57934676e+00 -5.11342644e+00  4.81849688e+00\n",
      "  -5.55601226e-02  7.60419044e-02 -1.62910041e+00 -3.28983503e+00\n",
      "   2.31514697e-01 -3.51396777e-02 -2.12732383e-02  1.02755327e+01\n",
      "   7.68773399e-01  9.31039834e-01 -3.95293970e-02 -2.75064517e-01\n",
      "   3.70105196e-02]]\n"
     ]
    }
   ],
   "source": [
    "# Create svm classifer with hyperparameters determined from above\n",
    "svm = LinearSVC(class_weight = 'balanced', penalty = 'l1', dual = False, max_iter = 40000)\n",
    "svm.fit(X_train, y_train)\n",
    "svm.score(X_train, y_train)\n",
    "svm.score(X_valid, y_valid)\n",
    "svm.score(X_test, y_test)\n",
    "\n",
    "# Print accuracies \n",
    "print(\"Training Accuracy: \", svm.score(X_train, y_train))\n",
    "print(\"Validation Accuracy: \", svm.score(X_valid, y_valid))\n",
    "print(\"Test Accuracy: \", svm.score(X_test, y_test), \"\\n\")\n",
    "\n",
    "\n",
    "# Print weights assigned to each feature\n",
    "print(\"Weights assigned to each feature:\\n\", svm.coef_)\n"
   ]
  },
  {
   "cell_type": "markdown",
   "metadata": {},
   "source": [
    "**RFC**"
   ]
  },
  {
   "cell_type": "code",
   "execution_count": 156,
   "metadata": {},
   "outputs": [
    {
     "name": "stdout",
     "output_type": "stream",
     "text": [
      "Training Accuracy:  1.0\n",
      "Validation Accuracy:  1.0\n",
      "Test Accuracy:  1.0\n"
     ]
    }
   ],
   "source": [
    "# Using RandomForests\n",
    "rfc = RandomForestClassifier(n_estimators = 100, min_samples_split = 2, max_depth = None, max_features = 'auto')\n",
    "rfc.fit(X_train, y_train)\n",
    "rfc.score(X_train, y_train)\n",
    "rfc.score(X_valid, y_valid)\n",
    "rfc.score(X_test, y_test)\n",
    "\n",
    "print(\"Training Accuracy: \", rfc.score(X_train, y_train))\n",
    "print(\"Validation Accuracy: \", rfc.score(X_valid, y_valid))\n",
    "print(\"Test Accuracy: \", rfc.score(X_test, y_test))"
   ]
  },
  {
   "cell_type": "markdown",
   "metadata": {},
   "source": [
    "Using a Random Forest Classifier with all hyperparameters set to their default values returns training, validation and test accuracies as 1.0. There is no need to tune the hyperparameters because no better result can be obtained. \n",
    "\n",
    "Moreover, we will be choosing to implement the RFC model. "
   ]
  },
  {
   "cell_type": "code",
   "execution_count": 157,
   "metadata": {},
   "outputs": [
    {
     "name": "stdout",
     "output_type": "stream",
     "text": [
      "Confusion Matrix:\n",
      " [[863   0]\n",
      " [  0 762]]\n"
     ]
    }
   ],
   "source": [
    "# Confusion Matrix for RandomForestClassifier\n",
    "predictions = rfc.predict(X_test)\n",
    "conf_mat = confusion_matrix(y_test, predictions)\n",
    "print(\"Confusion Matrix:\\n\", conf_mat)"
   ]
  },
  {
   "cell_type": "markdown",
   "metadata": {},
   "source": [
    "The confusion matrix displayed above makes sense as the RCF model has 100% accuracy. "
   ]
  },
  {
   "cell_type": "markdown",
   "metadata": {},
   "source": [
    "**Feature Importances**"
   ]
  },
  {
   "cell_type": "code",
   "execution_count": 158,
   "metadata": {},
   "outputs": [
    {
     "data": {
      "image/png": "[encoded data removed]",
      "text/plain": [
       "<Figure size 640x480 with 1 Axes>"
      ]
     },
     "metadata": {},
     "output_type": "display_data"
    }
   ],
   "source": [
    "# feature_importances_ is an attribute of RandomForestClassifier\n",
    "feature_importance = rfc.feature_importances_\n",
    "\n",
    "# Extracting headers from dataframe and saved into list\n",
    "header = []\n",
    "\n",
    "for col in mushrooms:\n",
    "    header.append(col)\n",
    "header.remove(\"class\")   \n",
    "\n",
    "# List of tuples [(feature_importance, header)]\n",
    "data = []\n",
    "for i in range(len(header)):\n",
    "    data.append((feature_importance[i], header[i]))\n",
    "data.sort()\n",
    "\n",
    "# Saving ordered tuples into two separate lists\n",
    "feature_importance_sorted = []\n",
    "header_sorted = []\n",
    "for x in data:\n",
    "    feature_importance_sorted.append(x[0])\n",
    "    header_sorted.append(x[1])\n",
    "    \n",
    "# Plot Importance of Features\n",
    "y_pos = np.arange(len(feature_importance))\n",
    "\n",
    "plt.barh(y_pos, feature_importance_sorted, align='center', alpha=0.5)\n",
    "plt.yticks(y_pos, header_sorted)\n",
    "\n",
    "plt.ylabel('Features')\n",
    "plt.xlabel('Feature Importance')\n",
    "plt.title('Features Classified by Importance')\n",
    "\n",
    "plt.show()"
   ]
  },
  {
   "cell_type": "markdown",
   "metadata": {},
   "source": [
    "This graph shows the importance of each feature in determining whether or not a mushroom is poisonous. \n",
    "\n",
    "**Most important features:** odor, gill-color, gill-size\n",
    "\n",
    "**Least important features:** veil-color, gill-attachment, cap-shape"
   ]
  },
  {
   "cell_type": "markdown",
   "metadata": {},
   "source": [
    "**2. Final Demonstration Proposal**"
   ]
  },
  {
   "cell_type": "markdown",
   "metadata": {},
   "source": [
    "The final model will be presented in the form of a basic landing page type website.\n",
    "I do not have any experience in any types of web or software development. \n",
    "I plan on using online tutorials as well as contacting project leaders in order to realize the final application. \n",
    "\n",
    "The idea behind the website is that the user will be able to input the features of a given mushroom through a series of menus. The model will then use those inputs to classify the mushroom as edible(0) or poisonous(1).  "
   ]
  }
 ],
 "metadata": {
  "kernelspec": {
   "display_name": "Python 3",
   "language": "python",
   "name": "python3"
  },
  "language_info": {
   "codemirror_mode": {
    "name": "ipython",
    "version": 3
   },
   "file_extension": ".py",
   "mimetype": "text/x-python",
   "name": "python",
   "nbconvert_exporter": "python",
   "pygments_lexer": "ipython3",
   "version": "3.7.4"
  }
 },
 "nbformat": 4,
 "nbformat_minor": 2
}
